{
 "cells": [
  {
   "cell_type": "markdown",
   "metadata": {},
   "source": [
    "# NetworkX Introduction - Lab\n",
    "\n",
    "## Introduction\n",
    "\n",
    "In this lab, you'll practice some of the introductory skills for NetworkX introduced in the previous lesson.\n",
    "To do this, you'll create a graph to visualize users and businesses from yelp reviews.\n",
    "## Objectives\n",
    "\n",
    "You will be able to:\n",
    "* Create basic network graphs using NetworkX\n",
    "* Add nodes to network graphs with NetworkX\n",
    "* Add edges to network graphs with NetworkX\n",
    "* Visualize network graphs with NetworkX"
   ]
  },
  {
   "cell_type": "markdown",
   "metadata": {},
   "source": [
    "## Import the Data\n",
    "\n",
    "To start, import the data stored in the file 'Yelp_reviews.csv'"
   ]
  },
  {
   "cell_type": "code",
   "execution_count": 4,
   "metadata": {},
   "outputs": [],
   "source": [
    "#Your code here\n",
    "import networkx as nx\n",
    "import pandas as pd\n",
    "df = pd.read_csv('Yelp_reviews.csv')"
   ]
  },
  {
   "cell_type": "markdown",
   "metadata": {},
   "source": [
    "## Creating a Graph\n",
    "\n",
    "Now, create an initial graph!"
   ]
  },
  {
   "cell_type": "code",
   "execution_count": 6,
   "metadata": {},
   "outputs": [],
   "source": [
    "G = nx.Graph()"
   ]
  },
  {
   "cell_type": "code",
   "execution_count": null,
   "metadata": {},
   "outputs": [],
   "source": [
    "#Your code here"
   ]
  },
  {
   "cell_type": "markdown",
   "metadata": {},
   "source": [
    "## Adding Nodes"
   ]
  },
  {
   "cell_type": "markdown",
   "metadata": {},
   "source": [
    "Create a node for each user and each business in the dataset. Networks with multiple node types like this are called **bimodal networks**.\n",
    "\n",
    "Optionally, go further by creating a list of colors for when you visualize the graph. If you do this, append the color \"green\" to your color list every time you add a user node and append the color \"blue\" to your color list every time you add a business node."
   ]
  },
  {
   "cell_type": "code",
   "execution_count": 9,
   "metadata": {},
   "outputs": [
    {
     "data": {
      "text/plain": [
       "(              business_id        date               review_id  stars  \\\n",
       " 0  7SO_rX1F6rQEl-5s3wZxgQ  2011-10-03  GxaYFCprt-wyqO--vB4PHQ      4   \n",
       " 1  K2_Hmmo5crTYWiT_1sWnfQ  2011-12-22  FSrIgThMfFIh__TubVQkxw      3   \n",
       " 2  FeI75xIG8PF_XZ6P80gLBQ  2012-06-04  eeJ10gamdNebtq028i0BvA      3   \n",
       " 3  6imLt53br7SJ3av07jjH7w  2012-11-06  SPDbkT9WXghJedf1xxYnOg      5   \n",
       " 4  zmFc8M-hS4uuyY0hklIpoQ  2011-01-17  A2lCUSvDJfIa5kwUoFFk8A      4   \n",
       " \n",
       "                                                 text    type  \\\n",
       " 0  After my last review, somewhat scathing regard...  review   \n",
       " 1  Ok, so I'm catching up on past-due reviews.  F...  review   \n",
       " 2  I want to like Turf, but the food is just okay...  review   \n",
       " 3  It's the place to be. \\n\\nI went before headin...  review   \n",
       " 4  A definite favorite in the neighborhood.\\n\\nTh...  review   \n",
       " \n",
       "                   user_id  cool  useful  funny  \n",
       " 0  J3I2NClEbD1Xr8lOdjxlqQ     1       2      1  \n",
       " 1  J3I2NClEbD1Xr8lOdjxlqQ     0       0      0  \n",
       " 2  64YY0h0ZAR2nbzxbx0IwJg     2       1      0  \n",
       " 3  Ypz7hxOCnrg8Y8vxHJU-sQ     0       0      0  \n",
       " 4  nDBly08j5URmrHQ2JCbyiw     2       3      2  , (76, 10))"
      ]
     },
     "execution_count": 9,
     "metadata": {},
     "output_type": "execute_result"
    }
   ],
   "source": [
    "df.head(), df.shape"
   ]
  },
  {
   "cell_type": "code",
   "execution_count": 8,
   "metadata": {},
   "outputs": [],
   "source": [
    "#Your code here\n",
    "for business in set(df.business_id):\n",
    "    G.add_node(business, color = 'blue')\n",
    "for user in set(df.user_id):\n",
    "    G.add_node(user, color='green')"
   ]
  },
  {
   "cell_type": "markdown",
   "metadata": {},
   "source": [
    "## Adding Edges\n",
    "\n",
    "Next, iterate through the dataset and create an edge between users and the businesses they have reviewed."
   ]
  },
  {
   "cell_type": "code",
   "execution_count": null,
   "metadata": {},
   "outputs": [],
   "source": [
    "for row in df"
   ]
  },
  {
   "cell_type": "code",
   "execution_count": null,
   "metadata": {},
   "outputs": [],
   "source": [
    "#Your code here"
   ]
  },
  {
   "cell_type": "markdown",
   "metadata": {},
   "source": [
    "## Visualizing the Graph\n",
    "\n",
    "Finally, create a visualization of your network. If you chose to color your nodes, pass the list of colors through the optional `node_color` parameter."
   ]
  },
  {
   "cell_type": "code",
   "execution_count": null,
   "metadata": {},
   "outputs": [],
   "source": [
    "#Your code here"
   ]
  },
  {
   "cell_type": "markdown",
   "metadata": {},
   "source": [
    "## Summary\n",
    "\n",
    "Nice work! In this lab you created an initial network to visualize a bimodal network of businesses and yelp reviewers!"
   ]
  }
 ],
 "metadata": {
  "kernelspec": {
   "display_name": "Python 3",
   "language": "python",
   "name": "python3"
  },
  "language_info": {
   "codemirror_mode": {
    "name": "ipython",
    "version": 3
   },
   "file_extension": ".py",
   "mimetype": "text/x-python",
   "name": "python",
   "nbconvert_exporter": "python",
   "pygments_lexer": "ipython3",
   "version": "3.6.6"
  }
 },
 "nbformat": 4,
 "nbformat_minor": 2
}
