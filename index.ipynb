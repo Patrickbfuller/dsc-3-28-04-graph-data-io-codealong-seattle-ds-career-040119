{
 "cells": [
  {
   "cell_type": "markdown",
   "metadata": {},
   "source": [
    "# NetworkX Introduction - Lab\n",
    "\n",
    "## Introduction\n",
    "\n",
    "In this lab, you'll practice some of the introductory skills for NetworkX introduced in the previous lesson.\n",
    "To do this, you'll create a graph to visualize users and businesses from yelp reviews.\n",
    "## Objectives\n",
    "\n",
    "You will be able to:\n",
    "* Create basic network graphs using NetworkX\n",
    "* Add nodes to network graphs with NetworkX\n",
    "* Add edges to network graphs with NetworkX\n",
    "* Visualize network graphs with NetworkX"
   ]
  },
  {
   "cell_type": "markdown",
   "metadata": {},
   "source": [
    "## Import the Data\n",
    "\n",
    "To start, import the data stored in the file 'Yelp_reviews.csv'"
   ]
  },
  {
   "cell_type": "code",
   "execution_count": 4,
   "metadata": {},
   "outputs": [],
   "source": [
    "#Your code here\n",
    "import networkx as nx\n",
    "import pandas as pd\n",
    "df = pd.read_csv('Yelp_reviews.csv')"
   ]
  },
  {
   "cell_type": "markdown",
   "metadata": {},
   "source": [
    "## Creating a Graph\n",
    "\n",
    "Now, create an initial graph!"
   ]
  },
  {
   "cell_type": "code",
   "execution_count": 6,
   "metadata": {},
   "outputs": [],
   "source": [
    "G = nx.Graph()"
   ]
  },
  {
   "cell_type": "code",
   "execution_count": null,
   "metadata": {},
   "outputs": [],
   "source": [
    "#Your code here"
   ]
  },
  {
   "cell_type": "markdown",
   "metadata": {},
   "source": [
    "## Adding Nodes"
   ]
  },
  {
   "cell_type": "markdown",
   "metadata": {},
   "source": [
    "Create a node for each user and each business in the dataset. Networks with multiple node types like this are called **bimodal networks**.\n",
    "\n",
    "Optionally, go further by creating a list of colors for when you visualize the graph. If you do this, append the color \"green\" to your color list every time you add a user node and append the color \"blue\" to your color list every time you add a business node."
   ]
  },
  {
   "cell_type": "code",
   "execution_count": 12,
   "metadata": {},
   "outputs": [
    {
     "name": "stdout",
     "output_type": "stream",
     "text": [
      "(76, 10)\n"
     ]
    },
    {
     "data": {
      "text/html": [
       "<div>\n",
       "<style scoped>\n",
       "    .dataframe tbody tr th:only-of-type {\n",
       "        vertical-align: middle;\n",
       "    }\n",
       "\n",
       "    .dataframe tbody tr th {\n",
       "        vertical-align: top;\n",
       "    }\n",
       "\n",
       "    .dataframe thead th {\n",
       "        text-align: right;\n",
       "    }\n",
       "</style>\n",
       "<table border=\"1\" class=\"dataframe\">\n",
       "  <thead>\n",
       "    <tr style=\"text-align: right;\">\n",
       "      <th></th>\n",
       "      <th>business_id</th>\n",
       "      <th>date</th>\n",
       "      <th>review_id</th>\n",
       "      <th>stars</th>\n",
       "      <th>text</th>\n",
       "      <th>type</th>\n",
       "      <th>user_id</th>\n",
       "      <th>cool</th>\n",
       "      <th>useful</th>\n",
       "      <th>funny</th>\n",
       "    </tr>\n",
       "  </thead>\n",
       "  <tbody>\n",
       "    <tr>\n",
       "      <th>0</th>\n",
       "      <td>7SO_rX1F6rQEl-5s3wZxgQ</td>\n",
       "      <td>2011-10-03</td>\n",
       "      <td>GxaYFCprt-wyqO--vB4PHQ</td>\n",
       "      <td>4</td>\n",
       "      <td>After my last review, somewhat scathing regard...</td>\n",
       "      <td>review</td>\n",
       "      <td>J3I2NClEbD1Xr8lOdjxlqQ</td>\n",
       "      <td>1</td>\n",
       "      <td>2</td>\n",
       "      <td>1</td>\n",
       "    </tr>\n",
       "    <tr>\n",
       "      <th>1</th>\n",
       "      <td>K2_Hmmo5crTYWiT_1sWnfQ</td>\n",
       "      <td>2011-12-22</td>\n",
       "      <td>FSrIgThMfFIh__TubVQkxw</td>\n",
       "      <td>3</td>\n",
       "      <td>Ok, so I'm catching up on past-due reviews.  F...</td>\n",
       "      <td>review</td>\n",
       "      <td>J3I2NClEbD1Xr8lOdjxlqQ</td>\n",
       "      <td>0</td>\n",
       "      <td>0</td>\n",
       "      <td>0</td>\n",
       "    </tr>\n",
       "    <tr>\n",
       "      <th>2</th>\n",
       "      <td>FeI75xIG8PF_XZ6P80gLBQ</td>\n",
       "      <td>2012-06-04</td>\n",
       "      <td>eeJ10gamdNebtq028i0BvA</td>\n",
       "      <td>3</td>\n",
       "      <td>I want to like Turf, but the food is just okay...</td>\n",
       "      <td>review</td>\n",
       "      <td>64YY0h0ZAR2nbzxbx0IwJg</td>\n",
       "      <td>2</td>\n",
       "      <td>1</td>\n",
       "      <td>0</td>\n",
       "    </tr>\n",
       "    <tr>\n",
       "      <th>3</th>\n",
       "      <td>6imLt53br7SJ3av07jjH7w</td>\n",
       "      <td>2012-11-06</td>\n",
       "      <td>SPDbkT9WXghJedf1xxYnOg</td>\n",
       "      <td>5</td>\n",
       "      <td>It's the place to be. \\n\\nI went before headin...</td>\n",
       "      <td>review</td>\n",
       "      <td>Ypz7hxOCnrg8Y8vxHJU-sQ</td>\n",
       "      <td>0</td>\n",
       "      <td>0</td>\n",
       "      <td>0</td>\n",
       "    </tr>\n",
       "    <tr>\n",
       "      <th>4</th>\n",
       "      <td>zmFc8M-hS4uuyY0hklIpoQ</td>\n",
       "      <td>2011-01-17</td>\n",
       "      <td>A2lCUSvDJfIa5kwUoFFk8A</td>\n",
       "      <td>4</td>\n",
       "      <td>A definite favorite in the neighborhood.\\n\\nTh...</td>\n",
       "      <td>review</td>\n",
       "      <td>nDBly08j5URmrHQ2JCbyiw</td>\n",
       "      <td>2</td>\n",
       "      <td>3</td>\n",
       "      <td>2</td>\n",
       "    </tr>\n",
       "  </tbody>\n",
       "</table>\n",
       "</div>"
      ],
      "text/plain": [
       "              business_id        date               review_id  stars  \\\n",
       "0  7SO_rX1F6rQEl-5s3wZxgQ  2011-10-03  GxaYFCprt-wyqO--vB4PHQ      4   \n",
       "1  K2_Hmmo5crTYWiT_1sWnfQ  2011-12-22  FSrIgThMfFIh__TubVQkxw      3   \n",
       "2  FeI75xIG8PF_XZ6P80gLBQ  2012-06-04  eeJ10gamdNebtq028i0BvA      3   \n",
       "3  6imLt53br7SJ3av07jjH7w  2012-11-06  SPDbkT9WXghJedf1xxYnOg      5   \n",
       "4  zmFc8M-hS4uuyY0hklIpoQ  2011-01-17  A2lCUSvDJfIa5kwUoFFk8A      4   \n",
       "\n",
       "                                                text    type  \\\n",
       "0  After my last review, somewhat scathing regard...  review   \n",
       "1  Ok, so I'm catching up on past-due reviews.  F...  review   \n",
       "2  I want to like Turf, but the food is just okay...  review   \n",
       "3  It's the place to be. \\n\\nI went before headin...  review   \n",
       "4  A definite favorite in the neighborhood.\\n\\nTh...  review   \n",
       "\n",
       "                  user_id  cool  useful  funny  \n",
       "0  J3I2NClEbD1Xr8lOdjxlqQ     1       2      1  \n",
       "1  J3I2NClEbD1Xr8lOdjxlqQ     0       0      0  \n",
       "2  64YY0h0ZAR2nbzxbx0IwJg     2       1      0  \n",
       "3  Ypz7hxOCnrg8Y8vxHJU-sQ     0       0      0  \n",
       "4  nDBly08j5URmrHQ2JCbyiw     2       3      2  "
      ]
     },
     "execution_count": 12,
     "metadata": {},
     "output_type": "execute_result"
    }
   ],
   "source": [
    "print(df.shape)\n",
    "df.head()"
   ]
  },
  {
   "cell_type": "code",
   "execution_count": 8,
   "metadata": {},
   "outputs": [],
   "source": [
    "#Your code here\n",
    "for business in set(df.business_id):\n",
    "    G.add_node(business, color = 'blue')\n",
    "for user in set(df.user_id):\n",
    "    G.add_node(user, color='green')"
   ]
  },
  {
   "cell_type": "markdown",
   "metadata": {},
   "source": [
    "## Adding Edges\n",
    "\n",
    "Next, iterate through the dataset and create an edge between users and the businesses they have reviewed."
   ]
  },
  {
   "cell_type": "code",
   "execution_count": 14,
   "metadata": {},
   "outputs": [],
   "source": [
    "for business, user in zip(df.business_id, df.user_id):\n",
    "    G.add_edge(business, user)"
   ]
  },
  {
   "cell_type": "code",
   "execution_count": null,
   "metadata": {},
   "outputs": [],
   "source": [
    "#Your code here"
   ]
  },
  {
   "cell_type": "markdown",
   "metadata": {},
   "source": [
    "## Visualizing the Graph\n",
    "\n",
    "Finally, create a visualization of your network. If you chose to color your nodes, pass the list of colors through the optional `node_color` parameter."
   ]
  },
  {
   "cell_type": "code",
   "execution_count": 29,
   "metadata": {},
   "outputs": [
    {
     "name": "stderr",
     "output_type": "stream",
     "text": [
      "/opt/conda/envs/learn-env/lib/python3.6/site-packages/networkx/drawing/nx_pylab.py:611: MatplotlibDeprecationWarning: isinstance(..., numbers.Number)\n",
      "  if cb.is_numlike(alpha):\n"
     ]
    },
    {
     "data": {
      "image/png": "[encoded data removed]",
      "text/plain": [
       "<Figure size 432x288 with 1 Axes>"
      ]
     },
     "metadata": {},
     "output_type": "display_data"
    }
   ],
   "source": [
    "#Your code here\n",
    "%matplotlib inline\n",
    "nx.draw(G, with_labels=True, node_size=350, font_size=3, alpha=0.2, node_color='cyan', font_color='purple', )"
   ]
  },
  {
   "cell_type": "markdown",
   "metadata": {},
   "source": [
    "## Summary\n",
    "\n",
    "Nice work! In this lab you created an initial network to visualize a bimodal network of businesses and yelp reviewers!"
   ]
  }
 ],
 "metadata": {
  "kernelspec": {
   "display_name": "Python 3",
   "language": "python",
   "name": "python3"
  },
  "language_info": {
   "codemirror_mode": {
    "name": "ipython",
    "version": 3
   },
   "file_extension": ".py",
   "mimetype": "text/x-python",
   "name": "python",
   "nbconvert_exporter": "python",
   "pygments_lexer": "ipython3",
   "version": "3.6.6"
  }
 },
 "nbformat": 4,
 "nbformat_minor": 2
}
